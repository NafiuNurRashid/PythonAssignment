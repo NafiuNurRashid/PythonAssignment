{
 "cells": [
  {
   "cell_type": "markdown",
   "metadata": {},
   "source": [
    "# 2.Write a function called add_excitement that takes a list of strings and adds an exclamation point ( ! ) to the end of each string in the list. The program should modify the original list and not return anything."
   ]
  },
  {
   "cell_type": "code",
   "execution_count": 8,
   "metadata": {},
   "outputs": [
    {
     "name": "stdout",
     "output_type": "stream",
     "text": [
      "Enter a string with exclamation sign: \n",
      "hello ! how are u!\n",
      " hello  how are u\n"
     ]
    }
   ],
   "source": [
    "def add_excitement():\n",
    "    print('Enter a string with exclamation sign: ')\n",
    "    i = raw_input() #input from user\n",
    "    exclamationsign = '!' #exclamatory sign\n",
    "    no_exclamationsign = \" \" #no exclamatory sign\n",
    "    for str in i:\n",
    "        if str not in exclamationsign:\n",
    "            no_exclamationsign = no_exclamationsign + str\n",
    "    print(no_exclamationsign) #output with no exclamatory\n",
    "add_excitement() "
   ]
  },
  {
   "cell_type": "code",
   "execution_count": null,
   "metadata": {},
   "outputs": [],
   "source": []
  },
  {
   "cell_type": "code",
   "execution_count": null,
   "metadata": {},
   "outputs": [],
   "source": []
  }
 ],
 "metadata": {
  "kernelspec": {
   "display_name": "Python 2",
   "language": "python",
   "name": "python2"
  },
  "language_info": {
   "codemirror_mode": {
    "name": "ipython",
    "version": 2
   },
   "file_extension": ".py",
   "mimetype": "text/x-python",
   "name": "python",
   "nbconvert_exporter": "python",
   "pygments_lexer": "ipython2",
   "version": "2.7.15"
  }
 },
 "nbformat": 4,
 "nbformat_minor": 2
}
