{
 "cells": [
  {
   "cell_type": "markdown",
   "metadata": {},
   "source": [
    "# # 1. Write a function called rectangle that takes two integers m and n as arguments and prints out an m × n box consisting of asterisks.\n"
   ]
  },
  {
   "cell_type": "code",
   "execution_count": 1,
   "metadata": {},
   "outputs": [
    {
     "name": "stdout",
     "output_type": "stream",
     "text": [
      "* * * * * * *  \n",
      "* * * * * * *  \n",
      "* * * * * * *  \n",
      "* * * * * * *  \n",
      "* * * * * * *  \n",
      "* * * * * * *  \n",
      "* * * * * * *  \n",
      "* * * * * * *  \n"
     ]
    }
   ],
   "source": [
    "def rectangle(i ,j): #i is the number of rows and j is the number of coloumns \n",
    " for a in range(i):\n",
    "    for b in range(j):\n",
    "        print(\"*\"),\n",
    "    print(\" \")\n",
    "\n",
    "rectangle(8,7)"
   ]
  },
  {
   "cell_type": "markdown",
   "metadata": {},
   "source": [
    "# 2.Write a function called add_excitement that takes a list of strings and adds an exclamation point ( ! ) to the end of each string in the list. The program should modify the original list and not return anything."
   ]
  },
  {
   "cell_type": "code",
   "execution_count": 2,
   "metadata": {},
   "outputs": [
    {
     "name": "stdout",
     "output_type": "stream",
     "text": [
      "Enter a string with exclamation sign: \n",
      "hei! how are u!\n",
      " hei how are u\n"
     ]
    }
   ],
   "source": [
    "def add_excitement():\n",
    "    print('Enter a string with exclamation sign: ')\n",
    "    i = raw_input() #input from user\n",
    "    exclamationsign = '!' #exclamatory sign\n",
    "    no_exclamationsign = \" \" #no exclamatory sign\n",
    "    for str in i:\n",
    "        if str not in exclamationsign:\n",
    "            no_exclamationsign = no_exclamationsign + str\n",
    "    print(no_exclamationsign) #output with no exclamatory\n",
    "add_excitement() "
   ]
  },
  {
   "cell_type": "markdown",
   "metadata": {},
   "source": [
    "# 3.Write the same function except that it should not modify the original list and should instead return a new list."
   ]
  },
  {
   "cell_type": "code",
   "execution_count": 3,
   "metadata": {},
   "outputs": [
    {
     "name": "stdout",
     "output_type": "stream",
     "text": [
      "Enter the string: Hei Man\n",
      "Returing new string:\n"
     ]
    },
    {
     "data": {
      "text/plain": [
       "'Hei Man'"
      ]
     },
     "execution_count": 3,
     "metadata": {},
     "output_type": "execute_result"
    }
   ],
   "source": [
    "def add_excitement():\n",
    "    i = raw_input('Enter the string: ') #take string from user\n",
    "    print 'Returing new string:' #returning new string without modifying\n",
    "    return i\n",
    "add_excitement() "
   ]
  },
  {
   "cell_type": "markdown",
   "metadata": {},
   "source": [
    "# 4.The digital root of a number n is obtained as follows: Add up the digits n to get a new number. Add up the digits of that to get another new number. Keep doing this until you get a number that has only one digit. That number is the digital root. For example, if n = 45893 , we add up the digits to get 4 + 5 + 8 + 9 + 3 = 29 . We then add up the digits of 29 to get 2 + 9 = 11 . We then add up the digits of 11 to get 1 + 1 = 2 . Since 2 has only one digit, 2 is our digital root. Write a function that returns the digital root of an integer n . [Note: there is a shortcut, where the digital root is equal to n mod 9, but do not use that here.]"
   ]
  },
  {
   "cell_type": "code",
   "execution_count": 4,
   "metadata": {},
   "outputs": [
    {
     "name": "stdout",
     "output_type": "stream",
     "text": [
      "Enter an integer: 45893\n",
      "Digital Root is:  2\n"
     ]
    }
   ],
   "source": [
    "def digitroot(): # function name\n",
    "    \n",
    "    n = input(\"Enter an integer: \") # takes input of the integer \n",
    "    sum = 0\n",
    "    while(n > 0 or sum > 9): \n",
    "        if(n == 0): # if input is 0, sum will be 0\n",
    "            n = sum\n",
    "            sum = 0 \n",
    "            # if input is grater than 0\n",
    "        else:\n",
    "            sum = sum + (n % 10)\n",
    "            n = n / 10\n",
    "    \n",
    "    print \"Digital Root is: \" , sum\n",
    "\n",
    "digitroot()"
   ]
  },
  {
   "cell_type": "markdown",
   "metadata": {},
   "source": [
    "# 5.Write a function that takes an integer n and returns a random integer with exactly n digits. For instance, if n is 3, then 125 and 593 would be valid return values, but 093 would not because that is really 93, which is a two-digit number.# "
   ]
  },
  {
   "cell_type": "code",
   "execution_count": 5,
   "metadata": {},
   "outputs": [
    {
     "name": "stdout",
     "output_type": "stream",
     "text": [
      "Enter an input: 3\n",
      "3 Digit Number is:  869\n"
     ]
    }
   ],
   "source": [
    "from random import randint\n",
    "def random_int():\n",
    "    n = input('Enter an input: ')\n",
    "    start = 10**(n-1)\n",
    "    end = (10**n)-1\n",
    "    print n, 'Digit Number is: ',randint(start,end)\n",
    "random_int()"
   ]
  },
  {
   "cell_type": "markdown",
   "metadata": {},
   "source": [
    "# 6.Write a function called matches that takes two strings as arguments and returns how many matches there are between the strings. A match is where the two strings have the same character at the same index. For instance, ' python ' and ' path ' match in the first, third, and fourth characters, so the function should return 3."
   ]
  },
  {
   "cell_type": "code",
   "execution_count": 6,
   "metadata": {},
   "outputs": [
    {
     "name": "stdout",
     "output_type": "stream",
     "text": [
      "Matches numbers are: 3\n"
     ]
    }
   ],
   "source": [
    "def matches(string1, string2): #function name\n",
    "    strng1 = set(string1)\n",
    "    strng2 = set(string2)\n",
    "    matched_char = strng1  & strng2 #strings are sorting\n",
    "    print('Matches numbers are: ' +str(len(matched_char))) #number of macthes calculating\n",
    "matches('PYTHON', 'PATH')"
   ]
  },
  {
   "cell_type": "markdown",
   "metadata": {},
   "source": [
    "# 7.Write a function called primes that is given a number n and returns a list of the first n primes. Let the default value of n be 100."
   ]
  },
  {
   "cell_type": "code",
   "execution_count": 7,
   "metadata": {},
   "outputs": [
    {
     "data": {
      "text/plain": [
       "[2,\n",
       " 3,\n",
       " 5,\n",
       " 7,\n",
       " 11,\n",
       " 13,\n",
       " 17,\n",
       " 19,\n",
       " 23,\n",
       " 29,\n",
       " 31,\n",
       " 37,\n",
       " 41,\n",
       " 43,\n",
       " 47,\n",
       " 53,\n",
       " 59,\n",
       " 61,\n",
       " 67,\n",
       " 71,\n",
       " 73,\n",
       " 79,\n",
       " 83,\n",
       " 89,\n",
       " 97]"
      ]
     },
     "execution_count": 7,
     "metadata": {},
     "output_type": "execute_result"
    }
   ],
   "source": [
    "def primes(n): \n",
    "    primes = []\n",
    "    for y in range (2,n):\n",
    "        for z in range(2,y):\n",
    "            if y % z == 0: #checking prime number\n",
    "                break\n",
    "        else:\n",
    "            primes.append(y)\n",
    "    primes.sort()\n",
    "    return primes #output of prime numbers\n",
    "\n",
    "primes(100)"
   ]
  },
  {
   "cell_type": "markdown",
   "metadata": {},
   "source": [
    "# 8.Recall that if s is a string, then s.find( ' a ' ) will find the location of the first a in s . The problem is that it does not find the location of every a. Write a function called findall that given a string and a single character, returns a list containing all of the locations of that character in the string. It should return an empty list if there are no occurrences of the character in the string."
   ]
  },
  {
   "cell_type": "code",
   "execution_count": 9,
   "metadata": {},
   "outputs": [
    {
     "name": "stdout",
     "output_type": "stream",
     "text": [
      "[0, 3]\n"
     ]
    }
   ],
   "source": [
    "def main():\n",
    "    print(findall('a', 'a man with one leg is entering'))\n",
    "def findall(word,strings):\n",
    "    data = []\n",
    "    i = -1\n",
    "    while(True):\n",
    "        i = strings.find(word, i+1)\n",
    "        if(i==-1):\n",
    "            break\n",
    "        data.append(i)\n",
    "    return data\n",
    "main()"
   ]
  },
  {
   "cell_type": "code",
   "execution_count": null,
   "metadata": {},
   "outputs": [],
   "source": []
  }
 ],
 "metadata": {
  "kernelspec": {
   "display_name": "Python 2",
   "language": "python",
   "name": "python2"
  },
  "language_info": {
   "codemirror_mode": {
    "name": "ipython",
    "version": 2
   },
   "file_extension": ".py",
   "mimetype": "text/x-python",
   "name": "python",
   "nbconvert_exporter": "python",
   "pygments_lexer": "ipython2",
   "version": "2.7.15"
  }
 },
 "nbformat": 4,
 "nbformat_minor": 2
}
